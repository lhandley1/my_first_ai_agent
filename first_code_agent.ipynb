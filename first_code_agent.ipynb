{
  "nbformat": 4,
  "nbformat_minor": 0,
  "metadata": {
    "colab": {
      "provenance": [],
      "authorship_tag": "ABX9TyN1Q2pqxvGBwr35/N2AYQT+",
      "include_colab_link": true
    },
    "kernelspec": {
      "name": "python3",
      "display_name": "Python 3"
    },
    "language_info": {
      "name": "python"
    }
  },
  "cells": [
    {
      "cell_type": "markdown",
      "metadata": {
        "id": "view-in-github",
        "colab_type": "text"
      },
      "source": [
        "<a href=\"https://colab.research.google.com/github/lhandley1/my_first_ai_agent/blob/main/first_code_agent.ipynb\" target=\"_parent\"><img src=\"https://colab.research.google.com/assets/colab-badge.svg\" alt=\"Open In Colab\"/></a>"
      ]
    },
    {
      "cell_type": "markdown",
      "metadata": {
        "id": "676dc12f"
      },
      "source": [
        "# My First AI Agent with Smolagents 🤖\n",
        "\n",
        "\n",
        "\n",
        "## Overview\n",
        "\n",
        "This project is my first introduction to the world of AI agents, specifically focusing on building a code agent using the smolagents framework. So far, I have installed the necessary libraries, set up access to the Hugging Face API, created a `CodeAgent` with a specific language model, and attempted to implement and use a custom tool. The initial goal is to create a basic agent that can utilise custom tools to perform specific tasks, starting with a simple tool to get the current time. This project is a learning experience to build a foundational understanding before exploring more advanced agent capabilities.\n",
        "\n",
        "## Smolagents Framework\n",
        "\n",
        "[Smolagents](https://github.com/smol-ai/smolagents) is a lightweight framework for building AI agents that focus on code generation."
      ]
    },
    {
      "cell_type": "markdown",
      "source": [
        "## Install the required libaries"
      ],
      "metadata": {
        "id": "v1Vi4u_EKTlg"
      }
    },
    {
      "cell_type": "code",
      "source": [
        "pip install 'smolagents[toolkit]'"
      ],
      "metadata": {
        "colab": {
          "base_uri": "https://localhost:8080/"
        },
        "collapsed": true,
        "id": "McXlOH3wKJbV",
        "outputId": "dba49afc-c751-4b01-a0e6-fe8832aede89"
      },
      "execution_count": 8,
      "outputs": [
        {
          "output_type": "stream",
          "name": "stdout",
          "text": [
            "Requirement already satisfied: smolagents[toolkit] in /usr/local/lib/python3.12/dist-packages (1.22.0)\n",
            "Requirement already satisfied: huggingface-hub>=0.31.2 in /usr/local/lib/python3.12/dist-packages (from smolagents[toolkit]) (0.35.3)\n",
            "Requirement already satisfied: requests>=2.32.3 in /usr/local/lib/python3.12/dist-packages (from smolagents[toolkit]) (2.32.4)\n",
            "Requirement already satisfied: rich>=13.9.4 in /usr/local/lib/python3.12/dist-packages (from smolagents[toolkit]) (13.9.4)\n",
            "Requirement already satisfied: jinja2>=3.1.4 in /usr/local/lib/python3.12/dist-packages (from smolagents[toolkit]) (3.1.6)\n",
            "Requirement already satisfied: pillow>=10.0.1 in /usr/local/lib/python3.12/dist-packages (from smolagents[toolkit]) (11.3.0)\n",
            "Requirement already satisfied: python-dotenv in /usr/local/lib/python3.12/dist-packages (from smolagents[toolkit]) (1.1.1)\n",
            "Requirement already satisfied: ddgs>=9.0.0 in /usr/local/lib/python3.12/dist-packages (from smolagents[toolkit]) (9.6.0)\n",
            "Requirement already satisfied: markdownify>=0.14.1 in /usr/local/lib/python3.12/dist-packages (from smolagents[toolkit]) (1.2.0)\n",
            "Requirement already satisfied: click>=8.1.8 in /usr/local/lib/python3.12/dist-packages (from ddgs>=9.0.0->smolagents[toolkit]) (8.3.0)\n",
            "Requirement already satisfied: primp>=0.15.0 in /usr/local/lib/python3.12/dist-packages (from ddgs>=9.0.0->smolagents[toolkit]) (0.15.0)\n",
            "Requirement already satisfied: lxml>=6.0.0 in /usr/local/lib/python3.12/dist-packages (from ddgs>=9.0.0->smolagents[toolkit]) (6.0.2)\n",
            "Requirement already satisfied: httpx>=0.28.1 in /usr/local/lib/python3.12/dist-packages (from httpx[brotli,http2,socks]>=0.28.1->ddgs>=9.0.0->smolagents[toolkit]) (0.28.1)\n",
            "Requirement already satisfied: filelock in /usr/local/lib/python3.12/dist-packages (from huggingface-hub>=0.31.2->smolagents[toolkit]) (3.19.1)\n",
            "Requirement already satisfied: fsspec>=2023.5.0 in /usr/local/lib/python3.12/dist-packages (from huggingface-hub>=0.31.2->smolagents[toolkit]) (2025.3.0)\n",
            "Requirement already satisfied: packaging>=20.9 in /usr/local/lib/python3.12/dist-packages (from huggingface-hub>=0.31.2->smolagents[toolkit]) (25.0)\n",
            "Requirement already satisfied: pyyaml>=5.1 in /usr/local/lib/python3.12/dist-packages (from huggingface-hub>=0.31.2->smolagents[toolkit]) (6.0.3)\n",
            "Requirement already satisfied: tqdm>=4.42.1 in /usr/local/lib/python3.12/dist-packages (from huggingface-hub>=0.31.2->smolagents[toolkit]) (4.67.1)\n",
            "Requirement already satisfied: typing-extensions>=3.7.4.3 in /usr/local/lib/python3.12/dist-packages (from huggingface-hub>=0.31.2->smolagents[toolkit]) (4.15.0)\n",
            "Requirement already satisfied: hf-xet<2.0.0,>=1.1.3 in /usr/local/lib/python3.12/dist-packages (from huggingface-hub>=0.31.2->smolagents[toolkit]) (1.1.10)\n",
            "Requirement already satisfied: MarkupSafe>=2.0 in /usr/local/lib/python3.12/dist-packages (from jinja2>=3.1.4->smolagents[toolkit]) (3.0.3)\n",
            "Requirement already satisfied: beautifulsoup4<5,>=4.9 in /usr/local/lib/python3.12/dist-packages (from markdownify>=0.14.1->smolagents[toolkit]) (4.13.5)\n",
            "Requirement already satisfied: six<2,>=1.15 in /usr/local/lib/python3.12/dist-packages (from markdownify>=0.14.1->smolagents[toolkit]) (1.17.0)\n",
            "Requirement already satisfied: charset_normalizer<4,>=2 in /usr/local/lib/python3.12/dist-packages (from requests>=2.32.3->smolagents[toolkit]) (3.4.3)\n",
            "Requirement already satisfied: idna<4,>=2.5 in /usr/local/lib/python3.12/dist-packages (from requests>=2.32.3->smolagents[toolkit]) (3.10)\n",
            "Requirement already satisfied: urllib3<3,>=1.21.1 in /usr/local/lib/python3.12/dist-packages (from requests>=2.32.3->smolagents[toolkit]) (2.5.0)\n",
            "Requirement already satisfied: certifi>=2017.4.17 in /usr/local/lib/python3.12/dist-packages (from requests>=2.32.3->smolagents[toolkit]) (2025.8.3)\n",
            "Requirement already satisfied: markdown-it-py>=2.2.0 in /usr/local/lib/python3.12/dist-packages (from rich>=13.9.4->smolagents[toolkit]) (4.0.0)\n",
            "Requirement already satisfied: pygments<3.0.0,>=2.13.0 in /usr/local/lib/python3.12/dist-packages (from rich>=13.9.4->smolagents[toolkit]) (2.19.2)\n",
            "Requirement already satisfied: soupsieve>1.2 in /usr/local/lib/python3.12/dist-packages (from beautifulsoup4<5,>=4.9->markdownify>=0.14.1->smolagents[toolkit]) (2.8)\n",
            "Requirement already satisfied: anyio in /usr/local/lib/python3.12/dist-packages (from httpx>=0.28.1->httpx[brotli,http2,socks]>=0.28.1->ddgs>=9.0.0->smolagents[toolkit]) (4.11.0)\n",
            "Requirement already satisfied: httpcore==1.* in /usr/local/lib/python3.12/dist-packages (from httpx>=0.28.1->httpx[brotli,http2,socks]>=0.28.1->ddgs>=9.0.0->smolagents[toolkit]) (1.0.9)\n",
            "Requirement already satisfied: h11>=0.16 in /usr/local/lib/python3.12/dist-packages (from httpcore==1.*->httpx>=0.28.1->httpx[brotli,http2,socks]>=0.28.1->ddgs>=9.0.0->smolagents[toolkit]) (0.16.0)\n",
            "Requirement already satisfied: brotli in /usr/local/lib/python3.12/dist-packages (from httpx[brotli,http2,socks]>=0.28.1->ddgs>=9.0.0->smolagents[toolkit]) (1.1.0)\n",
            "Requirement already satisfied: h2<5,>=3 in /usr/local/lib/python3.12/dist-packages (from httpx[brotli,http2,socks]>=0.28.1->ddgs>=9.0.0->smolagents[toolkit]) (4.3.0)\n",
            "Requirement already satisfied: socksio==1.* in /usr/local/lib/python3.12/dist-packages (from httpx[brotli,http2,socks]>=0.28.1->ddgs>=9.0.0->smolagents[toolkit]) (1.0.0)\n",
            "Requirement already satisfied: mdurl~=0.1 in /usr/local/lib/python3.12/dist-packages (from markdown-it-py>=2.2.0->rich>=13.9.4->smolagents[toolkit]) (0.1.2)\n",
            "Requirement already satisfied: hyperframe<7,>=6.1 in /usr/local/lib/python3.12/dist-packages (from h2<5,>=3->httpx[brotli,http2,socks]>=0.28.1->ddgs>=9.0.0->smolagents[toolkit]) (6.1.0)\n",
            "Requirement already satisfied: hpack<5,>=4.1 in /usr/local/lib/python3.12/dist-packages (from h2<5,>=3->httpx[brotli,http2,socks]>=0.28.1->ddgs>=9.0.0->smolagents[toolkit]) (4.1.0)\n",
            "Requirement already satisfied: sniffio>=1.1 in /usr/local/lib/python3.12/dist-packages (from anyio->httpx>=0.28.1->httpx[brotli,http2,socks]>=0.28.1->ddgs>=9.0.0->smolagents[toolkit]) (1.3.1)\n"
          ]
        }
      ]
    },
    {
      "cell_type": "markdown",
      "source": [
        "## API Setup"
      ],
      "metadata": {
        "id": "o1dwnwPhNyLb"
      }
    },
    {
      "cell_type": "code",
      "source": [
        "from google.colab import userdata\n",
        "HF_TOKEN = userdata.get('HF_TOKEN')"
      ],
      "metadata": {
        "id": "yECxMTm6N25s"
      },
      "execution_count": 9,
      "outputs": []
    },
    {
      "cell_type": "markdown",
      "source": [
        "## Create the Code Agent"
      ],
      "metadata": {
        "id": "ux3K1g29KnBI"
      }
    },
    {
      "cell_type": "code",
      "source": [
        "from smolagents import CodeAgent, InferenceClientModel, tool # Required to create the agent, initalise the model and enable the agent to view webpages\n",
        "import datetime # Required to get the current local time\n",
        "\n",
        "#Initialise the model\n",
        "model = InferenceClientModel(\n",
        "    model_id=\"Qwen/Qwen2.5-Coder-32B-Instruct\", #The default coding LLM for Hugging Face Inference API\n",
        "    token=HF_TOKEN\n",
        ")\n",
        "\n",
        "#Create the agent\n",
        "agent = CodeAgent(\n",
        "   tools=[get_current_time], # Custom tool added\n",
        "   model=model\n",
        ")"
      ],
      "metadata": {
        "collapsed": true,
        "id": "PMzy1OJVKtzl"
      },
      "execution_count": 27,
      "outputs": []
    },
    {
      "cell_type": "markdown",
      "source": [
        "## Creating a Custom Tool"
      ],
      "metadata": {
        "id": "4QJc3m5cXejc"
      }
    },
    {
      "cell_type": "code",
      "source": [
        "# A custom tool is created with the @tool decorator\n",
        "@tool\n",
        "def get_current_time() -> str:\n",
        "  \"\"\"\n",
        "  Returns the current local time\n",
        "\n",
        "  Args:\n",
        "    None\n",
        "\n",
        "  Returns:\n",
        "    str: The current local time\n",
        "  \"\"\"\n",
        "  return datetime.now().strftime(\"%H%M%S\")"
      ],
      "metadata": {
        "id": "wWazQAj_Xj40"
      },
      "execution_count": 25,
      "outputs": []
    },
    {
      "cell_type": "markdown",
      "source": [
        "##Run a task for the agent"
      ],
      "metadata": {
        "id": "jyFulBr5RHgn"
      }
    },
    {
      "cell_type": "code",
      "source": [
        "task = \"What is the current time?\"\n",
        "agent.run(task)"
      ],
      "metadata": {
        "id": "ocGFAxvcRTQc"
      },
      "execution_count": null,
      "outputs": []
    }
  ]
}